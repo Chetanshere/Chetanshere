{
 "cells": [
  {
   "cell_type": "markdown",
   "id": "9a5ae048",
   "metadata": {},
   "source": [
    "1) What does an empty dictionary&#39;s code look like?"
   ]
  },
  {
   "cell_type": "code",
   "execution_count": 1,
   "id": "25b4426e",
   "metadata": {},
   "outputs": [],
   "source": [
    "empty_dict = {}"
   ]
  },
  {
   "cell_type": "markdown",
   "id": "a7acbc89",
   "metadata": {},
   "source": [
    "2) What is the value of a dictionary value with the key &#39;foo&#39; and the value 42?"
   ]
  },
  {
   "cell_type": "code",
   "execution_count": 6,
   "id": "ec986856",
   "metadata": {},
   "outputs": [
    {
     "data": {
      "text/plain": [
       "dict_values([42])"
      ]
     },
     "execution_count": 6,
     "metadata": {},
     "output_type": "execute_result"
    }
   ],
   "source": [
    "dict1 = {\"foo\": 42}\n",
    "d = dict1.values()\n",
    "d"
   ]
  },
  {
   "cell_type": "markdown",
   "id": "91dfee60",
   "metadata": {},
   "source": [
    "3) What is the most significant distinction between a dictionary and a list?"
   ]
  },
  {
   "cell_type": "markdown",
   "id": "53814965",
   "metadata": {},
   "source": [
    "the most significant distinction between a list and dictionaries is their representation:\n",
    "\n",
    "dictionaries contain key value pair while a list may contain int float string dictionaries list and tuple \n",
    "\n",
    "dict are written in {} these brackets whereas list is made using [] these square brackets"
   ]
  },
  {
   "cell_type": "markdown",
   "id": "bfb9a53f",
   "metadata": {},
   "source": [
    "4)  What happens if you try to access spam[&#39;foo&#39;] if spam is {&#39;bar&#39;: 100}?"
   ]
  },
  {
   "cell_type": "code",
   "execution_count": 8,
   "id": "1f217176",
   "metadata": {},
   "outputs": [
    {
     "ename": "KeyError",
     "evalue": "'foo'",
     "output_type": "error",
     "traceback": [
      "\u001b[1;31m---------------------------------------------------------------------------\u001b[0m",
      "\u001b[1;31mKeyError\u001b[0m                                  Traceback (most recent call last)",
      "Input \u001b[1;32mIn [8]\u001b[0m, in \u001b[0;36m<cell line: 2>\u001b[1;34m()\u001b[0m\n\u001b[0;32m      1\u001b[0m spam \u001b[38;5;241m=\u001b[39m {\u001b[38;5;124m'\u001b[39m\u001b[38;5;124mbar\u001b[39m\u001b[38;5;124m'\u001b[39m:\u001b[38;5;241m100\u001b[39m}\n\u001b[1;32m----> 2\u001b[0m \u001b[43mspam\u001b[49m\u001b[43m[\u001b[49m\u001b[38;5;124;43m'\u001b[39;49m\u001b[38;5;124;43mfoo\u001b[39;49m\u001b[38;5;124;43m'\u001b[39;49m\u001b[43m]\u001b[49m\n",
      "\u001b[1;31mKeyError\u001b[0m: 'foo'"
     ]
    }
   ],
   "source": [
    "spam = {'bar':100}\n",
    "spam['foo'] # we will get an error"
   ]
  },
  {
   "cell_type": "markdown",
   "id": "5d6c9388",
   "metadata": {},
   "source": [
    "we get an error "
   ]
  },
  {
   "cell_type": "markdown",
   "id": "6bb1184a",
   "metadata": {},
   "source": [
    "5. If a dictionary is stored in spam, what is the difference between the expressions &#39;cat&#39; in spam and\n",
    "&#39;cat&#39; in spam.keys()?"
   ]
  },
  {
   "cell_type": "markdown",
   "id": "a6582ae4",
   "metadata": {},
   "source": [
    "if we have an expression 'cat ' in spam it will return true if the element 'cat' is in either key or value\n",
    "\n",
    "but when we give 'cat' is spam.keys() it will return true only when 'cat' is in the spam as a key"
   ]
  },
  {
   "cell_type": "markdown",
   "id": "c654b612",
   "metadata": {},
   "source": [
    "6) If a dictionary is stored in spam, what is the difference between the expressions &#39;cat&#39; in spam and\n",
    "&#39;cat&#39; in spam.values()?"
   ]
  },
  {
   "cell_type": "markdown",
   "id": "37b8315f",
   "metadata": {},
   "source": [
    "if we have an expression 'cat ' in spam it will return true if the element 'cat' is in either key or value\n",
    "\n",
    "but when we give 'cat' is spam.values() it will return true only when 'cat' is in the spam as a value"
   ]
  },
  {
   "cell_type": "markdown",
   "id": "dd288bb1",
   "metadata": {},
   "source": [
    "7) What is a shortcut for the following code?\n",
    "if &#39;color&#39; not in spam:\n",
    "spam[&#39;color&#39;] = &#39;black&#39;"
   ]
  },
  {
   "cell_type": "code",
   "execution_count": 9,
   "id": "b8fc7c48",
   "metadata": {},
   "outputs": [],
   "source": [
    "print(spam['color']= 'black')  if 'color' not in spam:"
   ]
  },
  {
   "cell_type": "markdown",
   "id": "c8f0c560",
   "metadata": {},
   "source": [
    "8) How do you &quot;pretty print&quot; dictionary values using which module and function?"
   ]
  },
  {
   "cell_type": "markdown",
   "id": "956c1f79",
   "metadata": {},
   "source": [
    "we can pretty print dictionaries values by using json or pprint modules "
   ]
  },
  {
   "cell_type": "code",
   "execution_count": null,
   "id": "9373a6e3",
   "metadata": {},
   "outputs": [],
   "source": []
  }
 ],
 "metadata": {
  "kernelspec": {
   "display_name": "Python 3 (ipykernel)",
   "language": "python",
   "name": "python3"
  },
  "language_info": {
   "codemirror_mode": {
    "name": "ipython",
    "version": 3
   },
   "file_extension": ".py",
   "mimetype": "text/x-python",
   "name": "python",
   "nbconvert_exporter": "python",
   "pygments_lexer": "ipython3",
   "version": "3.9.12"
  }
 },
 "nbformat": 4,
 "nbformat_minor": 5
}
