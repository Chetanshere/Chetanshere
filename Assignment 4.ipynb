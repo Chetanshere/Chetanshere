{
 "cells": [
  {
   "cell_type": "markdown",
   "id": "6d5100c2",
   "metadata": {},
   "source": [
    "1) What exactly is []?"
   ]
  },
  {
   "cell_type": "markdown",
   "id": "52248ca3",
   "metadata": {},
   "source": [
    "This is a square bracket that is used for creating list and performing certain operations."
   ]
  },
  {
   "cell_type": "markdown",
   "id": "42335a00",
   "metadata": {},
   "source": [
    "2) In a list of values stored in a variable called spam, how would you assign the value &#39;hello&#39; as the\n",
    "third value? (Assume [2, 4, 6, 8, 10] are in spam.)"
   ]
  },
  {
   "cell_type": "code",
   "execution_count": 2,
   "id": "02a930d7",
   "metadata": {},
   "outputs": [
    {
     "data": {
      "text/plain": [
       "[2, 4, 'hello', 8, 10]"
      ]
     },
     "execution_count": 2,
     "metadata": {},
     "output_type": "execute_result"
    }
   ],
   "source": [
    "spam= [2, 4, 6, 8, 10]\n",
    "spam[2]='hello'\n",
    "spam"
   ]
  },
  {
   "cell_type": "markdown",
   "id": "13227a47",
   "metadata": {},
   "source": [
    "3) What is the value of spam[int(int(&#39;3&#39; * 2) / 11)]?"
   ]
  },
  {
   "cell_type": "code",
   "execution_count": 4,
   "id": "bd6e3ee5",
   "metadata": {},
   "outputs": [
    {
     "data": {
      "text/plain": [
       "'d'"
      ]
     },
     "execution_count": 4,
     "metadata": {},
     "output_type": "execute_result"
    }
   ],
   "source": [
    "spam= ['a','b','c','d']\n",
    "value= spam[int(int('3'*2)/11)]\n",
    "value"
   ]
  },
  {
   "cell_type": "markdown",
   "id": "349894dd",
   "metadata": {},
   "source": [
    "4) What is the value of spam[-1]?"
   ]
  },
  {
   "cell_type": "markdown",
   "id": "a348a636",
   "metadata": {},
   "source": [
    "spam= ['a','b','c','d']\n",
    "spam[-1]"
   ]
  },
  {
   "cell_type": "markdown",
   "id": "b9de4240",
   "metadata": {},
   "source": [
    "5) What is the value of spam[:2]?"
   ]
  },
  {
   "cell_type": "code",
   "execution_count": 6,
   "id": "597f5896",
   "metadata": {},
   "outputs": [
    {
     "data": {
      "text/plain": [
       "['a', 'b']"
      ]
     },
     "execution_count": 6,
     "metadata": {},
     "output_type": "execute_result"
    }
   ],
   "source": [
    "spam[:2]"
   ]
  },
  {
   "cell_type": "markdown",
   "id": "31e5b4a2",
   "metadata": {},
   "source": [
    "6) What is the value of bacon.index(&#39;cat&#39;)?"
   ]
  },
  {
   "cell_type": "code",
   "execution_count": 7,
   "id": "08d836fe",
   "metadata": {},
   "outputs": [
    {
     "data": {
      "text/plain": [
       "'cat'"
      ]
     },
     "execution_count": 7,
     "metadata": {},
     "output_type": "execute_result"
    }
   ],
   "source": [
    "bacon=[3.14, 'cat', 11, 'cat', True]\n",
    "bacon[1]\n",
    "bacon[3]"
   ]
  },
  {
   "cell_type": "markdown",
   "id": "0bb60f77",
   "metadata": {},
   "source": [
    "7) How does bacon.append(99) change the look of the list value in bacon?"
   ]
  },
  {
   "cell_type": "code",
   "execution_count": 8,
   "id": "01d87f74",
   "metadata": {},
   "outputs": [
    {
     "data": {
      "text/plain": [
       "[3.14, 'cat', 11, 'cat', True, 99]"
      ]
     },
     "execution_count": 8,
     "metadata": {},
     "output_type": "execute_result"
    }
   ],
   "source": [
    "bacon.append(99)\n",
    "bacon"
   ]
  },
  {
   "cell_type": "markdown",
   "id": "84234b81",
   "metadata": {},
   "source": [
    "8) How does bacon.remove(&#39;cat&#39;) change the look of the list in bacon?"
   ]
  },
  {
   "cell_type": "code",
   "execution_count": 9,
   "id": "78bf0c0c",
   "metadata": {},
   "outputs": [
    {
     "data": {
      "text/plain": [
       "[3.14, 11, 'cat', True, 99]"
      ]
     },
     "execution_count": 9,
     "metadata": {},
     "output_type": "execute_result"
    }
   ],
   "source": [
    "bacon.remove('cat')\n",
    "bacon"
   ]
  },
  {
   "cell_type": "markdown",
   "id": "702c4837",
   "metadata": {},
   "source": [
    "9) What are the list concatenation and list replication operators?"
   ]
  },
  {
   "cell_type": "markdown",
   "id": "7d165d26",
   "metadata": {},
   "source": [
    "1) '+' is the operator used for concatenation of the list.\n",
    "\n",
    "2) ' * ' is the operator used for replication of the list."
   ]
  },
  {
   "cell_type": "markdown",
   "id": "0dfae964",
   "metadata": {},
   "source": [
    "10) What is difference between the list methods append() and insert()?"
   ]
  },
  {
   "cell_type": "markdown",
   "id": "8099e6e8",
   "metadata": {},
   "source": [
    "1) append() adds an element at the end of the list.\n",
    "\n",
    "2) insert() is used for inserting an element at any index of the list."
   ]
  },
  {
   "cell_type": "markdown",
   "id": "ef19520b",
   "metadata": {},
   "source": [
    "11) What are the two methods for removing items from a list?"
   ]
  },
  {
   "cell_type": "markdown",
   "id": "6b65d695",
   "metadata": {},
   "source": [
    "1) remove() function is used for removing any element from the list.\n",
    "\n",
    "2) pop() function removes the last element of the given list."
   ]
  },
  {
   "cell_type": "markdown",
   "id": "cecd1852",
   "metadata": {},
   "source": [
    "12) Describe how list values and string values are identical."
   ]
  },
  {
   "cell_type": "markdown",
   "id": "53b3d41f",
   "metadata": {},
   "source": [
    "List and string both of them are sequences which are used to store some kind of data in them.\n",
    "\n",
    "Both of them contain indexing and similar indexing operations can be performed on lists as well as string."
   ]
  },
  {
   "cell_type": "markdown",
   "id": "8a50224f",
   "metadata": {},
   "source": [
    "13) What&#39;s the difference between tuples and lists?"
   ]
  },
  {
   "cell_type": "markdown",
   "id": "cca6054f",
   "metadata": {},
   "source": [
    "1) tuples are created using () brackets whereas lists are created using [] brackets.\n",
    "\n",
    "2) lists are mutable objects i.e., elements in the list can be changed .\n",
    "\n",
    "3) tuples are immutable objects i.e., elements in the tuples can not be changed.\n",
    "\n",
    "4) iterations are faster in tuples as compared to lists."
   ]
  },
  {
   "cell_type": "markdown",
   "id": "ac7522d3",
   "metadata": {},
   "source": [
    "14) How do you type a tuple value that only contains the integer 42?"
   ]
  },
  {
   "cell_type": "code",
   "execution_count": 14,
   "id": "eb10c01c",
   "metadata": {},
   "outputs": [
    {
     "data": {
      "text/plain": [
       "(42,)"
      ]
     },
     "execution_count": 14,
     "metadata": {},
     "output_type": "execute_result"
    }
   ],
   "source": [
    "# tuple containing only 42 :\n",
    "t = (42,)\n",
    "t"
   ]
  },
  {
   "cell_type": "markdown",
   "id": "6bc644a1",
   "metadata": {},
   "source": [
    "15) How do you get a list value&#39;s tuple form? How do you get a tuple value&#39;s list form?"
   ]
  },
  {
   "cell_type": "code",
   "execution_count": 15,
   "id": "ec5da264",
   "metadata": {},
   "outputs": [
    {
     "data": {
      "text/plain": [
       "[12, 3, 4, 5, 55, 6]"
      ]
     },
     "execution_count": 15,
     "metadata": {},
     "output_type": "execute_result"
    }
   ],
   "source": [
    "#1 create list from tuple :\n",
    "t1= (12,3,4,5,55,6)\n",
    "l=list(t1)\n",
    "l"
   ]
  },
  {
   "cell_type": "code",
   "execution_count": 16,
   "id": "81b49577",
   "metadata": {},
   "outputs": [
    {
     "data": {
      "text/plain": [
       "(2, 'cat', '890', 123, 0.25896)"
      ]
     },
     "execution_count": 16,
     "metadata": {},
     "output_type": "execute_result"
    }
   ],
   "source": [
    "#2 create tuple from list:\n",
    "l1= [2,'cat',\"890\",123,0.25896]\n",
    "t=tuple(l1)\n",
    "t"
   ]
  },
  {
   "cell_type": "markdown",
   "id": "e6c94732",
   "metadata": {},
   "source": [
    "16) Variables that &quot;contain&quot; list values are not necessarily lists themselves. Instead, what do they\n",
    "contain?"
   ]
  },
  {
   "cell_type": "markdown",
   "id": "9cc43bd0",
   "metadata": {},
   "source": [
    "these variables can be dictionaries or tuples or string or integer or float or bools"
   ]
  },
  {
   "cell_type": "markdown",
   "id": "0e330366",
   "metadata": {},
   "source": [
    "17) How do you distinguish between copy.copy() and copy.deepcopy()?"
   ]
  },
  {
   "cell_type": "markdown",
   "id": "c4b85afb",
   "metadata": {},
   "source": [
    "Copy creates another reference to each int, while deepcopy copies the int instance."
   ]
  },
  {
   "cell_type": "code",
   "execution_count": null,
   "id": "0fe94d72",
   "metadata": {},
   "outputs": [],
   "source": []
  }
 ],
 "metadata": {
  "kernelspec": {
   "display_name": "Python 3 (ipykernel)",
   "language": "python",
   "name": "python3"
  },
  "language_info": {
   "codemirror_mode": {
    "name": "ipython",
    "version": 3
   },
   "file_extension": ".py",
   "mimetype": "text/x-python",
   "name": "python",
   "nbconvert_exporter": "python",
   "pygments_lexer": "ipython3",
   "version": "3.9.12"
  }
 },
 "nbformat": 4,
 "nbformat_minor": 5
}
