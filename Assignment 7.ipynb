{
 "cells": [
  {
   "cell_type": "markdown",
   "id": "de401743",
   "metadata": {},
   "source": [
    "1) What is the name of the feature responsible for generating Regex objects?"
   ]
  },
  {
   "cell_type": "markdown",
   "id": "c0106288",
   "metadata": {},
   "source": [
    "Re.compile() function is responsible for generating regex objects "
   ]
  },
  {
   "cell_type": "markdown",
   "id": "628ef340",
   "metadata": {},
   "source": [
    "2) Why do raw strings often appear in Regex objects?"
   ]
  },
  {
   "cell_type": "markdown",
   "id": "0cd079c8",
   "metadata": {},
   "source": [
    "In order to minimize the use of backslashes in a string we can pass the string in the re.compile() function"
   ]
  },
  {
   "cell_type": "markdown",
   "id": "a267c425",
   "metadata": {},
   "source": [
    "3) What is the return value of the search() method?"
   ]
  },
  {
   "cell_type": "markdown",
   "id": "e16574b7",
   "metadata": {},
   "source": [
    "search method is used to find a pattern from a position in a string"
   ]
  },
  {
   "cell_type": "markdown",
   "id": "1d797808",
   "metadata": {},
   "source": [
    "4) From a Match item, how do you get the actual strings that match the pattern?"
   ]
  },
  {
   "cell_type": "markdown",
   "id": "b16a0257",
   "metadata": {},
   "source": [
    "We can use LD to compare those two strings which match the pattern"
   ]
  },
  {
   "cell_type": "markdown",
   "id": "00cf424a",
   "metadata": {},
   "source": [
    "5) In the regex which created from the r&#39;(\\d\\d\\d)-(\\d\\d\\d-\\d\\d\\d\\d)&#39;, what does group zero cover?\n",
    "Group 2? Group 1?"
   ]
  },
  {
   "cell_type": "markdown",
   "id": "a667e0bb",
   "metadata": {},
   "source": [
    "Group 0 covers entire match , group 1 covers 1st set of parenthesis and group 2 covers 2nd set of parenthesis"
   ]
  },
  {
   "cell_type": "markdown",
   "id": "502efd99",
   "metadata": {},
   "source": [
    "6) In standard expression syntax, parentheses and intervals have distinct meanings. How can you tell\n",
    "a regex that you want it to fit real parentheses and periods?"
   ]
  },
  {
   "cell_type": "markdown",
   "id": "4e5a9d96",
   "metadata": {},
   "source": [
    "We can use backslash in order to tell regex to fit real parenthesis and periods"
   ]
  },
  {
   "cell_type": "markdown",
   "id": "1437f2b6",
   "metadata": {},
   "source": [
    "7) The findall() method returns a string list or a list of string tuples. What causes it to return one of\n",
    "the two options?"
   ]
  },
  {
   "cell_type": "markdown",
   "id": "96ea3d70",
   "metadata": {},
   "source": [
    "If the regex has no groups, a list of strings is returned and if the regex has groups, a list of tuples of strings is returned."
   ]
  },
  {
   "cell_type": "markdown",
   "id": "2995165a",
   "metadata": {},
   "source": [
    "8) In standard expressions, what does the | character mean?"
   ]
  },
  {
   "cell_type": "markdown",
   "id": "5472f37b",
   "metadata": {},
   "source": [
    "This is used for matching \"either,or\" between two groups"
   ]
  },
  {
   "cell_type": "markdown",
   "id": "29a64b8f",
   "metadata": {},
   "source": [
    "9) In regular expressions, what does the character stand for?"
   ]
  },
  {
   "cell_type": "markdown",
   "id": "c2e55c12",
   "metadata": {},
   "source": [
    "character not mentioned"
   ]
  },
  {
   "cell_type": "markdown",
   "id": "8646b4f3",
   "metadata": {},
   "source": [
    "10)In regular expressions, what is the difference between the + and * characters?"
   ]
  },
  {
   "cell_type": "markdown",
   "id": "173058d4",
   "metadata": {},
   "source": [
    "(+) matches one or more and (*) matches zero or more"
   ]
  },
  {
   "cell_type": "markdown",
   "id": "245b410c",
   "metadata": {},
   "source": [
    "11) What is the difference between {4} and {4,5} in regular expression?"
   ]
  },
  {
   "cell_type": "markdown",
   "id": "4e1870ef",
   "metadata": {},
   "source": [
    "The 4 matches exactly 3 instances of the preceding group while {4,5} matches the instances between 4 and 5"
   ]
  },
  {
   "cell_type": "markdown",
   "id": "5caee5b1",
   "metadata": {},
   "source": [
    "12) What do you mean by the \\d, \\w, and \\s shorthand character classes signify in regular\n",
    "expressions?"
   ]
  },
  {
   "cell_type": "markdown",
   "id": "00e0b3e1",
   "metadata": {},
   "source": [
    "These shorthand characters matches single digit, word or a special character respectively"
   ]
  },
  {
   "cell_type": "markdown",
   "id": "8f08a2e0",
   "metadata": {},
   "source": [
    "13) What do means by \\D, \\W, and \\S shorthand character classes signify in regular expressions?"
   ]
  },
  {
   "cell_type": "markdown",
   "id": "0812da89",
   "metadata": {},
   "source": [
    "These shorthand characters classes match a single character that is not a digit, word, or space character respectively."
   ]
  },
  {
   "cell_type": "markdown",
   "id": "72b07dc9",
   "metadata": {},
   "source": [
    "14) What is the difference between .*? and .*?"
   ]
  },
  {
   "cell_type": "markdown",
   "id": "41d20a42",
   "metadata": {},
   "source": [
    "(.*) performs a greedy match and (.*?) performs a non-greedy match "
   ]
  },
  {
   "cell_type": "markdown",
   "id": "f2cec124",
   "metadata": {},
   "source": [
    "15) What is the syntax for matching both numbers and lowercase letters with a character class?"
   ]
  },
  {
   "cell_type": "markdown",
   "id": "2b8d5547",
   "metadata": {},
   "source": [
    "Either [0-9a-z] or [a-z0-9]\n",
    "\n",
    "This is the syntax "
   ]
  },
  {
   "cell_type": "markdown",
   "id": "e996e1bd",
   "metadata": {},
   "source": [
    "16) What is the procedure for making a normal expression in regax case insensitive?"
   ]
  },
  {
   "cell_type": "markdown",
   "id": "fbd2d287",
   "metadata": {},
   "source": [
    "Passing re.I or re.IGNORECASE as the second argument to re.compile() will make the matching case insensitive."
   ]
  },
  {
   "cell_type": "markdown",
   "id": "d3aebb5e",
   "metadata": {},
   "source": [
    "17) What does the . character normally match? What does it match if re.DOTALL is passed as 2nd\n",
    "argument in re.compile()?"
   ]
  },
  {
   "cell_type": "markdown",
   "id": "a9be7a4d",
   "metadata": {},
   "source": [
    "If re.DOTALL is passed as the second argument into re.compile(), then the dot will also match newline characters."
   ]
  },
  {
   "cell_type": "markdown",
   "id": "c4d9302e",
   "metadata": {},
   "source": [
    "18) If numReg = re.compile(r&#39;\\d+&#39;), what will numRegex.sub(&#39;X&#39;, &#39;11 drummers, 10 pipers, five rings, 4\n",
    "hen&#39;) return?"
   ]
  },
  {
   "cell_type": "markdown",
   "id": "25d7ad42",
   "metadata": {},
   "source": [
    "This will return 'X drummers, X pipers, five rings, X hens'"
   ]
  },
  {
   "cell_type": "markdown",
   "id": "9ece1f25",
   "metadata": {},
   "source": [
    "19) What does passing re.VERBOSE as the 2nd argument to re.compile() allow to do?"
   ]
  },
  {
   "cell_type": "markdown",
   "id": "78a383da",
   "metadata": {},
   "source": [
    "It allows you to pass whitespace and comments to the string that is passed to the re.compile()"
   ]
  },
  {
   "cell_type": "markdown",
   "id": "e933c447",
   "metadata": {},
   "source": [
    "20) How would you write a regex that match a number with comma for every three digits? It must\n",
    "match the given following:\n",
    "&#39;42&#39;\n",
    "&#39;1,234&#39;\n",
    "&#39;6,368,745&#39;\n",
    "\n",
    "but not the following:\n",
    "&#39;12,34,567&#39; (which has only two digits between the commas)\n",
    "&#39;1234&#39; (which lacks commas)"
   ]
  },
  {
   "cell_type": "markdown",
   "id": "6ce53aa5",
   "metadata": {},
   "source": [
    "e.compile(r'^\\d{1,3}(,{3})*$') will create this particular regex and the other regex strings can produce similar regular expression."
   ]
  },
  {
   "cell_type": "markdown",
   "id": "808d086d",
   "metadata": {},
   "source": [
    "21) How would you write a regex that matches the full name of someone whose last name is\n",
    "Watanabe? You can assume that the first name that comes before it will always be one word that\n",
    "begins with a capital letter. The regex must match the following:\n",
    "&#39;Haruto Watanabe&#39;\n",
    "&#39;Alice Watanabe&#39;\n",
    "&#39;RoboCop Watanabe&#39;\n",
    "but not the following:\n",
    "&#39;haruto Watanabe&#39; (where the first name is not capitalized)\n",
    "&#39;Mr. Watanabe&#39; (where the preceding word has a nonletter character)\n",
    "&#39;Watanabe&#39; (which has no first name)\n",
    "&#39;Haruto watanabe&#39; (where Watanabe is not capitalized)"
   ]
  },
  {
   "cell_type": "markdown",
   "id": "54d2d27b",
   "metadata": {},
   "source": [
    "re.compile(r'[A-Z][a-z]*\\sWatanabe')"
   ]
  },
  {
   "cell_type": "markdown",
   "id": "d111f04e",
   "metadata": {},
   "source": [
    "22) How would you write a regex that matches a sentence where the first word is either Alice, Bob,\n",
    "or Carol; the second word is either eats, pets, or throws; the third word is apples, cats, or baseballs;\n",
    "and the sentence ends with a period? This regex should be case-insensitive. It must match the\n",
    "following:\n",
    "&#39;Alice eats apples.&#39;\n",
    "&#39;Bob pets cats.&#39;\n",
    "&#39;Carol throws baseballs.&#39;\n",
    "&#39;Alice throws Apples.&#39;\n",
    "&#39;BOB EATS CATS.&#39;\n",
    "but not the following:\n",
    "&#39;RoboCop eats apples.&#39;\n",
    "&#39;ALICE THROWS FOOTBALLS.&#39;\n",
    "&#39;Carol eats 7 cats.&#39;"
   ]
  },
  {
   "cell_type": "markdown",
   "id": "e6ca3dd9",
   "metadata": {},
   "source": [
    "re.compile(r'(Alice|Bob|Carol)\\s(eats|pets|throws)\\ s(apples|cats|baseballs)\\.', re.IGNORECASE)"
   ]
  },
  {
   "cell_type": "code",
   "execution_count": null,
   "id": "d0682ad1",
   "metadata": {},
   "outputs": [],
   "source": []
  }
 ],
 "metadata": {
  "kernelspec": {
   "display_name": "Python 3 (ipykernel)",
   "language": "python",
   "name": "python3"
  },
  "language_info": {
   "codemirror_mode": {
    "name": "ipython",
    "version": 3
   },
   "file_extension": ".py",
   "mimetype": "text/x-python",
   "name": "python",
   "nbconvert_exporter": "python",
   "pygments_lexer": "ipython3",
   "version": "3.9.12"
  }
 },
 "nbformat": 4,
 "nbformat_minor": 5
}
