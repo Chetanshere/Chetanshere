{
 "cells": [
  {
   "cell_type": "markdown",
   "id": "ed197fc7",
   "metadata": {},
   "source": [
    "# 1.What are the two values of the Boolean data type? How do you write them?\n"
   ]
  },
  {
   "cell_type": "markdown",
   "id": "ece69afc",
   "metadata": {},
   "source": [
    "Two values of Boolean datatype are True and False.\n",
    "True corresponds to 1 and false corresponds to 0"
   ]
  },
  {
   "cell_type": "markdown",
   "id": "cea20a1b",
   "metadata": {},
   "source": [
    "# 2. What are the three different types of Boolean operators?\n"
   ]
  },
  {
   "cell_type": "markdown",
   "id": "b15ce21c",
   "metadata": {},
   "source": [
    "Three different types of boolean operators are :\n",
    "and,  or, not thse operators when clubbed with conditions gives true or false as values"
   ]
  },
  {
   "cell_type": "markdown",
   "id": "26f8317d",
   "metadata": {},
   "source": [
    "# 3. Make a list of each Boolean operator's truth tables (i.e. every possible combination of Boolean values for the operator and what it evaluate ).\n"
   ]
  },
  {
   "cell_type": "markdown",
   "id": "3f34efc0",
   "metadata": {},
   "source": [
    "consider two statements A and B\n",
    "\n",
    "for AND operator:\n",
    "\n",
    "T and T : true\n",
    "\n",
    "T and F : false\n",
    "\n",
    "F and T : false\n",
    "\n",
    "F and F : false.\n",
    "\n",
    "\n",
    "\n",
    "For OR operator:\n",
    "\n",
    "T or T : true\n",
    "\n",
    "T or F : true\n",
    "\n",
    "F or T : true \n",
    "\n",
    "F or F : false\n",
    "\n",
    "\n",
    "For NOT operator:\n",
    "\n",
    "Consider a statement X:\n",
    "\n",
    "T not X : flase\n",
    "\n",
    "F not X : true"
   ]
  },
  {
   "cell_type": "markdown",
   "id": "900160d1",
   "metadata": {},
   "source": [
    "# 4. What are the values of the following expressions?\n"
   ]
  },
  {
   "cell_type": "code",
   "execution_count": 1,
   "id": "c8bd99a8",
   "metadata": {},
   "outputs": [
    {
     "data": {
      "text/plain": [
       "False"
      ]
     },
     "execution_count": 1,
     "metadata": {},
     "output_type": "execute_result"
    }
   ],
   "source": [
    "(5>4) and (3==5)"
   ]
  },
  {
   "cell_type": "code",
   "execution_count": 2,
   "id": "1f33a46d",
   "metadata": {},
   "outputs": [
    {
     "data": {
      "text/plain": [
       "False"
      ]
     },
     "execution_count": 2,
     "metadata": {},
     "output_type": "execute_result"
    }
   ],
   "source": [
    "not(5>4)"
   ]
  },
  {
   "cell_type": "code",
   "execution_count": 3,
   "id": "a8388bbe",
   "metadata": {},
   "outputs": [
    {
     "data": {
      "text/plain": [
       "True"
      ]
     },
     "execution_count": 3,
     "metadata": {},
     "output_type": "execute_result"
    }
   ],
   "source": [
    "(5>4)or ((3==5))"
   ]
  },
  {
   "cell_type": "code",
   "execution_count": 4,
   "id": "f885950c",
   "metadata": {},
   "outputs": [
    {
     "data": {
      "text/plain": [
       "False"
      ]
     },
     "execution_count": 4,
     "metadata": {},
     "output_type": "execute_result"
    }
   ],
   "source": [
    "not((5>4)or ((3==5)))"
   ]
  },
  {
   "cell_type": "code",
   "execution_count": 5,
   "id": "7aaea201",
   "metadata": {},
   "outputs": [
    {
     "data": {
      "text/plain": [
       "False"
      ]
     },
     "execution_count": 5,
     "metadata": {},
     "output_type": "execute_result"
    }
   ],
   "source": [
    "(True and True) and (True == False)\n"
   ]
  },
  {
   "cell_type": "code",
   "execution_count": 6,
   "id": "912d027e",
   "metadata": {},
   "outputs": [
    {
     "data": {
      "text/plain": [
       "True"
      ]
     },
     "execution_count": 6,
     "metadata": {},
     "output_type": "execute_result"
    }
   ],
   "source": [
    "(not False) or (not True)\n"
   ]
  },
  {
   "cell_type": "markdown",
   "id": "ce250bf9",
   "metadata": {},
   "source": [
    "# 5. What are the six comparison operators?\n"
   ]
  },
  {
   "cell_type": "markdown",
   "id": "e9ce1dec",
   "metadata": {},
   "source": [
    "6 comparision operators are:\n",
    "\n",
    "less than (<)\n",
    "\n",
    "greater than (>)\n",
    "\n",
    "less than equal to (<=)\n",
    "\n",
    "greater than equal to (>=)\n",
    "\n",
    "equal to (==)\n",
    "\n",
    "not equal to (!=)"
   ]
  },
  {
   "cell_type": "markdown",
   "id": "b78dbc1c",
   "metadata": {},
   "source": [
    "# 6. How do you tell the difference between the equal to and assignment operators?Describe a condition and when you would use one.\n"
   ]
  },
  {
   "cell_type": "markdown",
   "id": "e23b5500",
   "metadata": {},
   "source": [
    "Equal to is used for comparision and is represented by ==.\n",
    "i.e, to compare values of left hand and right hand side of the expression.\n",
    "\n",
    "\n",
    "On the other hand assignment operator is used for assigning a value to a variable. It is denoted by = an equal to sign."
   ]
  },
  {
   "cell_type": "markdown",
   "id": "f2377df1",
   "metadata": {},
   "source": [
    "# 7. Identify the three blocks in this code:\n"
   ]
  },
  {
   "cell_type": "code",
   "execution_count": 7,
   "id": "77d4f9e0",
   "metadata": {},
   "outputs": [
    {
     "name": "stdout",
     "output_type": "stream",
     "text": [
      "ham\n",
      "spam\n",
      "spam\n"
     ]
    }
   ],
   "source": [
    "spam=0\n",
    "# Block 1\n",
    "if spam == 10:\n",
    "    print(\"eggs\")\n",
    "# Block 2    \n",
    "    if spam > 5:\n",
    "        print(\"bacon\")\n",
    "# Block 3 \n",
    "else:\n",
    "    print(\"ham\")\n",
    "    print(\"spam\")\n",
    "    print(\"spam\")"
   ]
  },
  {
   "cell_type": "markdown",
   "id": "0b408850",
   "metadata": {},
   "source": [
    "In the above lines of code we can see that there are three blocks wiz if, if and else"
   ]
  },
  {
   "cell_type": "markdown",
   "id": "bfc55407",
   "metadata": {},
   "source": [
    "# 8. Write code that prints Hello if 1 is stored in spam, prints Howdy if 2 is stored in spam, and prints Greetings! if anything else is stored in spam."
   ]
  },
  {
   "cell_type": "code",
   "execution_count": 8,
   "id": "de2d5257",
   "metadata": {},
   "outputs": [
    {
     "name": "stdout",
     "output_type": "stream",
     "text": [
      "Howdy\n"
     ]
    }
   ],
   "source": [
    "spam=2\n",
    "if spam==1:\n",
    "    print(\"Hello\")\n",
    "elif spam == 2:\n",
    "    print(\"Howdy\")\n",
    "else:\n",
    "    print(\"Greetings\")"
   ]
  },
  {
   "cell_type": "markdown",
   "id": "9d8c4e0e",
   "metadata": {},
   "source": [
    "# 9.If your programme is stuck in an endless loop, what keys you’ll press?"
   ]
  },
  {
   "cell_type": "markdown",
   "id": "e63fcbfd",
   "metadata": {},
   "source": [
    "If our programme is stuck in an endless loop, we have to use ctrl+c\n",
    "\n",
    "which will terminate the endless loop"
   ]
  },
  {
   "cell_type": "markdown",
   "id": "108201ef",
   "metadata": {},
   "source": [
    "# 10. How can you tell the difference between break and continue?"
   ]
  },
  {
   "cell_type": "markdown",
   "id": "3a809c1b",
   "metadata": {},
   "source": [
    " Break statement is used for terminating a loop.As loop terminates the next line or statement is executed.\n",
    " \n",
    "Continue statement is used for ending the current loop and it starts executing the next loop without terminating the first loop it skips all the remaining statements in that loop body \n",
    " "
   ]
  },
  {
   "cell_type": "markdown",
   "id": "b3a614a9",
   "metadata": {},
   "source": [
    "# 11. In a for loop, what is the difference between range(10), range(0, 10), and range(0, 10, 1)?"
   ]
  },
  {
   "cell_type": "code",
   "execution_count": 12,
   "id": "29ec32ce",
   "metadata": {},
   "outputs": [
    {
     "data": {
      "text/plain": [
       "range(0, 10)"
      ]
     },
     "execution_count": 12,
     "metadata": {},
     "output_type": "execute_result"
    }
   ],
   "source": [
    "range(10)"
   ]
  },
  {
   "cell_type": "code",
   "execution_count": 10,
   "id": "0af36a50",
   "metadata": {},
   "outputs": [
    {
     "data": {
      "text/plain": [
       "range(0, 10)"
      ]
     },
     "execution_count": 10,
     "metadata": {},
     "output_type": "execute_result"
    }
   ],
   "source": [
    "range(0,10)"
   ]
  },
  {
   "cell_type": "code",
   "execution_count": 13,
   "id": "8a9bff12",
   "metadata": {},
   "outputs": [
    {
     "data": {
      "text/plain": [
       "range(0, 10)"
      ]
     },
     "execution_count": 13,
     "metadata": {},
     "output_type": "execute_result"
    }
   ],
   "source": [
    "range(0,10,1)"
   ]
  },
  {
   "cell_type": "markdown",
   "id": "f896b2d3",
   "metadata": {},
   "source": [
    "As we can see in the above lines of code there is no difference in the output but the method of writing input is different:"
   ]
  },
  {
   "cell_type": "markdown",
   "id": "bdbc64fa",
   "metadata": {},
   "source": [
    "# 12. Write a short program that prints the numbers 1 to 10 using a for loop. Then write an equivalent program that prints the numbers 1 to 10 using a while loop."
   ]
  },
  {
   "cell_type": "code",
   "execution_count": 16,
   "id": "0161e4bb",
   "metadata": {},
   "outputs": [
    {
     "name": "stdout",
     "output_type": "stream",
     "text": [
      "1\n",
      "2\n",
      "3\n",
      "4\n",
      "5\n",
      "6\n",
      "7\n",
      "8\n",
      "9\n",
      "10\n"
     ]
    }
   ],
   "source": [
    "for i in range(1,11):\n",
    "    print(i)"
   ]
  },
  {
   "cell_type": "code",
   "execution_count": 17,
   "id": "4eb21467",
   "metadata": {},
   "outputs": [
    {
     "name": "stdout",
     "output_type": "stream",
     "text": [
      "1\n",
      "2\n",
      "3\n",
      "4\n",
      "5\n",
      "6\n",
      "7\n",
      "8\n",
      "9\n",
      "10\n"
     ]
    }
   ],
   "source": [
    "n=1\n",
    "while n<=10:\n",
    "    print(n)\n",
    "    n=n+1"
   ]
  },
  {
   "cell_type": "markdown",
   "id": "dd49a5b2",
   "metadata": {},
   "source": [
    "# 13. If you had a function named bacon() inside a module named spam, how would you call it after importing spam?"
   ]
  },
  {
   "cell_type": "code",
   "execution_count": null,
   "id": "75968b7f",
   "metadata": {},
   "outputs": [],
   "source": [
    "fun_bacon= bacon():"
   ]
  }
 ],
 "metadata": {
  "kernelspec": {
   "display_name": "Python 3 (ipykernel)",
   "language": "python",
   "name": "python3"
  },
  "language_info": {
   "codemirror_mode": {
    "name": "ipython",
    "version": 3
   },
   "file_extension": ".py",
   "mimetype": "text/x-python",
   "name": "python",
   "nbconvert_exporter": "python",
   "pygments_lexer": "ipython3",
   "version": "3.9.12"
  }
 },
 "nbformat": 4,
 "nbformat_minor": 5
}
