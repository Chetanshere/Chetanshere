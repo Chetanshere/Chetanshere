{
 "cells": [
  {
   "cell_type": "markdown",
   "id": "058c8789",
   "metadata": {},
   "source": [
    "1) Write a Python Program to Add Two Matrices?"
   ]
  },
  {
   "cell_type": "code",
   "execution_count": 1,
   "id": "b9e26a39",
   "metadata": {},
   "outputs": [],
   "source": [
    "def add_matrices(X,Y):\n",
    "    for i in range(len(X)):\n",
    "        for j in range(len(X[0])):\n",
    "            result[i][j] = X[i][j] + Y[i][j]\n",
    "\n",
    "    for r in result:\n",
    "        print(r)\n"
   ]
  },
  {
   "cell_type": "markdown",
   "id": "1dc9c383",
   "metadata": {},
   "source": [
    "2) Write a Python Program to Multiply Two Matrices?"
   ]
  },
  {
   "cell_type": "code",
   "execution_count": 7,
   "id": "4b782321",
   "metadata": {},
   "outputs": [],
   "source": [
    "def multiply_matrices(A,B):\n",
    "    for i in range(len(A)):\n",
    "        for j in range(len(B[0])):\n",
    "            for k in range(len(B)):\n",
    "                result[i][j] += A[i][k] * B[k][j]\n",
    "    for r in result:\n",
    "        print(r)"
   ]
  },
  {
   "cell_type": "markdown",
   "id": "f98117ec",
   "metadata": {},
   "source": [
    "3) Write a Python Program to Transpose a Matrix?"
   ]
  },
  {
   "cell_type": "code",
   "execution_count": 8,
   "id": "f28a4a27",
   "metadata": {},
   "outputs": [],
   "source": [
    "def transpose_matrix(X):\n",
    "    for i in range(len(X)):\n",
    "        for j in range(len(X[0])):\n",
    "            result[j][i] = X[i][j]\n",
    "\n",
    "    for r in result:\n",
    "        print(r)"
   ]
  },
  {
   "cell_type": "markdown",
   "id": "24cd8a4f",
   "metadata": {},
   "source": [
    "4) Write a Python Program to Sort Words in Alphabetic Order?"
   ]
  },
  {
   "cell_type": "code",
   "execution_count": 12,
   "id": "6fc62398",
   "metadata": {},
   "outputs": [
    {
     "name": "stdout",
     "output_type": "stream",
     "text": [
      "The sorted words are:\n",
      "earth\n",
      "in\n",
      "is\n",
      "round\n",
      "shape\n",
      "the\n"
     ]
    }
   ],
   "source": [
    "my_str = \"The earth Is round in shape\"\n",
    "words = [word.lower() for word in my_str.split()]\n",
    "words.sort()\n",
    "print(\"The sorted words are:\")\n",
    "for word in words:\n",
    "    print(word)\n"
   ]
  },
  {
   "cell_type": "markdown",
   "id": "f8a68ef1",
   "metadata": {},
   "source": [
    "5) Write a Python Program to Remove Punctuation From a String?"
   ]
  },
  {
   "cell_type": "code",
   "execution_count": 15,
   "id": "07804400",
   "metadata": {},
   "outputs": [
    {
     "name": "stdout",
     "output_type": "stream",
     "text": [
      "<built-in method translate of str object at 0x0000023CE1245DB0>\n"
     ]
    }
   ],
   "source": [
    "import string\n",
    "test_str = 'Fifa world cup, is best: for ! entertainment ;'\n",
    "\n",
    "test_str = test_str.translate\n",
    "(str.maketrans('', '', string.punctuation))\n",
    "print(test_str)\n"
   ]
  },
  {
   "cell_type": "code",
   "execution_count": null,
   "id": "29cb9a3f",
   "metadata": {},
   "outputs": [],
   "source": []
  }
 ],
 "metadata": {
  "kernelspec": {
   "display_name": "Python 3 (ipykernel)",
   "language": "python",
   "name": "python3"
  },
  "language_info": {
   "codemirror_mode": {
    "name": "ipython",
    "version": 3
   },
   "file_extension": ".py",
   "mimetype": "text/x-python",
   "name": "python",
   "nbconvert_exporter": "python",
   "pygments_lexer": "ipython3",
   "version": "3.9.12"
  }
 },
 "nbformat": 4,
 "nbformat_minor": 5
}
