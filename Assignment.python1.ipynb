{
 "cells": [
  {
   "cell_type": "markdown",
   "id": "bb6521f0",
   "metadata": {},
   "source": [
    "# 1. In the below elements which of them are values or an expression? eg:- values can be integer or string and expressions will be mathematical operators.\n"
   ]
  },
  {
   "cell_type": "markdown",
   "id": "e098c431",
   "metadata": {},
   "source": [
    "## Answer"
   ]
  },
  {
   "cell_type": "markdown",
   "id": "82fa0111",
   "metadata": {},
   "source": [
    "## values: \n",
    " 'hello' , -87.8, 6"
   ]
  },
  {
   "cell_type": "markdown",
   "id": "9820194a",
   "metadata": {},
   "source": [
    "## expressions:\n",
    "* , - , / , *"
   ]
  },
  {
   "cell_type": "markdown",
   "id": "49c4f719",
   "metadata": {},
   "source": [
    "# 2. What is the difference between string and variable?"
   ]
  },
  {
   "cell_type": "markdown",
   "id": "280abfe7",
   "metadata": {},
   "source": [
    "## Answer"
   ]
  },
  {
   "cell_type": "markdown",
   "id": "ce8bcb5c",
   "metadata": {},
   "source": [
    "Strings are a datatype that represents a sequence of characters comprising of letters, charachters, numbers, spaces, etc. they are written in (\"  \") this format.This datatype is used for reading and writing data.\n",
    "\n",
    "variables stores a value inside them so as to be used later for performing certain tasks on the dataset and can be reffered for getting huge datasets by just typing the variable name."
   ]
  },
  {
   "cell_type": "markdown",
   "id": "f6746723",
   "metadata": {},
   "source": [
    "# 3. Describe three different data types"
   ]
  },
  {
   "cell_type": "markdown",
   "id": "c8cb3766",
   "metadata": {},
   "source": [
    "## Answer"
   ]
  },
  {
   "cell_type": "markdown",
   "id": "935b3724",
   "metadata": {},
   "source": [
    "## three datatypes are as follows"
   ]
  },
  {
   "cell_type": "markdown",
   "id": "567812bd",
   "metadata": {},
   "source": [
    "1) integer is the datatype used for storing numerical data such as whole  numbers. we represent this datatype by int. "
   ]
  },
  {
   "cell_type": "markdown",
   "id": "9a35eadc",
   "metadata": {},
   "source": [
    "2) float is a datatype that contains numerical data in the form of decimal.\n",
    "eg, 25.68 is a floating point number. "
   ]
  },
  {
   "cell_type": "markdown",
   "id": "9e3b31f5",
   "metadata": {},
   "source": [
    "3) String is a collection of one or more characters represented in single or double quotes or sometimes even tripple quotes. str is the class for string.\n",
    "we can perform multiple functions on strings."
   ]
  },
  {
   "cell_type": "markdown",
   "id": "df1360dd",
   "metadata": {},
   "source": [
    "# 4. What is an expression made up of? What do all expressions do?\n"
   ]
  },
  {
   "cell_type": "markdown",
   "id": "856a9416",
   "metadata": {},
   "source": [
    "## Answer"
   ]
  },
  {
   "cell_type": "markdown",
   "id": "e60295a3",
   "metadata": {},
   "source": [
    "Expressions is a combination of various operand and operators. it gives a value after we evaluate the expressions. Expressions contain variables, constants etc."
   ]
  },
  {
   "cell_type": "markdown",
   "id": "13bacd98",
   "metadata": {},
   "source": [
    "# 5. This assignment statements, like spam = 10. What is the difference between an expression and a statement?\n"
   ]
  },
  {
   "cell_type": "markdown",
   "id": "f9d81c7a",
   "metadata": {},
   "source": [
    "## Answer"
   ]
  },
  {
   "cell_type": "markdown",
   "id": "4276b991",
   "metadata": {},
   "source": [
    "In a statement a value is assigned to a variable. as in the above statement 10 is the value which is been assigned to variable spam.\n",
    "\n",
    "Expressions are also a kind of statement in which there are operators, different datatypes and variables plus constant.these also include functions."
   ]
  },
  {
   "cell_type": "markdown",
   "id": "44153ece",
   "metadata": {},
   "source": [
    "# 6. After running the following code, what does the variable bacon contain?\n",
    "# bacon = 22\n",
    "# bacon + 1\n"
   ]
  },
  {
   "cell_type": "code",
   "execution_count": 1,
   "id": "43b9fb77",
   "metadata": {},
   "outputs": [],
   "source": [
    "bacon=22"
   ]
  },
  {
   "cell_type": "code",
   "execution_count": 2,
   "id": "b7833b32",
   "metadata": {},
   "outputs": [
    {
     "data": {
      "text/plain": [
       "23"
      ]
     },
     "execution_count": 2,
     "metadata": {},
     "output_type": "execute_result"
    }
   ],
   "source": [
    "bacon+1"
   ]
  },
  {
   "cell_type": "markdown",
   "id": "b55e426f",
   "metadata": {},
   "source": [
    "# 7. What should the values of the following two terms be?\n"
   ]
  },
  {
   "cell_type": "code",
   "execution_count": 3,
   "id": "6a2f4287",
   "metadata": {},
   "outputs": [
    {
     "data": {
      "text/plain": [
       "'spamspamspam'"
      ]
     },
     "execution_count": 3,
     "metadata": {},
     "output_type": "execute_result"
    }
   ],
   "source": [
    "'spam' + 'spamspam'\n",
    "'spam'*3\n"
   ]
  },
  {
   "cell_type": "markdown",
   "id": "528aced3",
   "metadata": {},
   "source": [
    "# 8. Why is eggs a valid variable name while 100 is invalid?\n"
   ]
  },
  {
   "cell_type": "markdown",
   "id": "f7fc5496",
   "metadata": {},
   "source": [
    "## Answer"
   ]
  },
  {
   "cell_type": "markdown",
   "id": "8aaabeef",
   "metadata": {},
   "source": [
    "1) eggs is a string and by the rules of assigning a variable string is accepted as a variable.\n",
    "\n",
    "2) whereas 100 is an integer and hence can not be used as a variable however to use it as a variable we have to do typcasting of it to convert it into a string."
   ]
  },
  {
   "cell_type": "markdown",
   "id": "c6a4322b",
   "metadata": {},
   "source": [
    "# 9. What three functions can be used to get the integer, floating-point number, or string version of a value?\n"
   ]
  },
  {
   "cell_type": "markdown",
   "id": "ea646ca6",
   "metadata": {},
   "source": [
    "## Answer"
   ]
  },
  {
   "cell_type": "markdown",
   "id": "0e9a926c",
   "metadata": {},
   "source": [
    "1) for getting integer, float and string version of a value we do typecasting.\n",
    "\n",
    "2) the functions are as follows: int(), float(), str()."
   ]
  },
  {
   "cell_type": "markdown",
   "id": "859692fc",
   "metadata": {},
   "source": [
    "# 10. Why does this expression cause an error? How can you fix it?\n",
    "# 'I have eaten ' + 99 + ' burritos.'\n"
   ]
  },
  {
   "cell_type": "code",
   "execution_count": 4,
   "id": "a0d99da6",
   "metadata": {},
   "outputs": [
    {
     "ename": "TypeError",
     "evalue": "can only concatenate str (not \"int\") to str",
     "output_type": "error",
     "traceback": [
      "\u001b[1;31m---------------------------------------------------------------------------\u001b[0m",
      "\u001b[1;31mTypeError\u001b[0m                                 Traceback (most recent call last)",
      "Input \u001b[1;32mIn [4]\u001b[0m, in \u001b[0;36m<cell line: 1>\u001b[1;34m()\u001b[0m\n\u001b[1;32m----> 1\u001b[0m \u001b[38;5;124;43m'\u001b[39;49m\u001b[38;5;124;43mI have eaten\u001b[39;49m\u001b[38;5;124;43m'\u001b[39;49m\u001b[38;5;241;43m+\u001b[39;49m\u001b[38;5;241;43m99\u001b[39;49m\u001b[38;5;241m+\u001b[39m\u001b[38;5;124m'\u001b[39m\u001b[38;5;124mburritos\u001b[39m\u001b[38;5;124m'\u001b[39m\n",
      "\u001b[1;31mTypeError\u001b[0m: can only concatenate str (not \"int\") to str"
     ]
    }
   ],
   "source": [
    "'I have eaten'+99+'burritos'"
   ]
  },
  {
   "cell_type": "markdown",
   "id": "9397fe55",
   "metadata": {},
   "source": [
    "We can not concatenate a string and and integer.\n",
    "to solve this we will have to do typecasting to convert integer 99 to a string."
   ]
  },
  {
   "cell_type": "code",
   "execution_count": 5,
   "id": "d8a51e44",
   "metadata": {},
   "outputs": [
    {
     "data": {
      "text/plain": [
       "'I have eaten 99 burritos'"
      ]
     },
     "execution_count": 5,
     "metadata": {},
     "output_type": "execute_result"
    }
   ],
   "source": [
    "'I have eaten '+'99'+' burritos'"
   ]
  }
 ],
 "metadata": {
  "kernelspec": {
   "display_name": "Python 3 (ipykernel)",
   "language": "python",
   "name": "python3"
  },
  "language_info": {
   "codemirror_mode": {
    "name": "ipython",
    "version": 3
   },
   "file_extension": ".py",
   "mimetype": "text/x-python",
   "name": "python",
   "nbconvert_exporter": "python",
   "pygments_lexer": "ipython3",
   "version": "3.9.12"
  }
 },
 "nbformat": 4,
 "nbformat_minor": 5
}
