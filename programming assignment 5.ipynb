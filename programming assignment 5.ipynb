{
 "cells": [
  {
   "cell_type": "markdown",
   "id": "88aa7def",
   "metadata": {},
   "source": [
    "1) Write a Python Program to Find LCM?"
   ]
  },
  {
   "cell_type": "code",
   "execution_count": 7,
   "id": "0b680ce5",
   "metadata": {},
   "outputs": [
    {
     "name": "stdout",
     "output_type": "stream",
     "text": [
      "The L.C.M. is 1780\n"
     ]
    }
   ],
   "source": [
    "def find_lcm(x, y):\n",
    "    if x > y:\n",
    "        g = x\n",
    "    else:\n",
    "        g = y\n",
    "\n",
    "    while(True):\n",
    "        if((g % x == 0) and (g % y == 0)):\n",
    "            lcm = g\n",
    "            break\n",
    "        g =g  + 1\n",
    "\n",
    "    return lcm\n",
    "\n",
    "number1 = 89\n",
    "number2 = 20\n",
    "\n",
    "print(\"The L.C.M. is\", compute_lcm(num1, num2))"
   ]
  },
  {
   "cell_type": "markdown",
   "id": "67b8a5d6",
   "metadata": {},
   "source": [
    "2) Write a Python Program to Find HCF?"
   ]
  },
  {
   "cell_type": "code",
   "execution_count": 8,
   "id": "a0f35e9c",
   "metadata": {},
   "outputs": [
    {
     "name": "stdout",
     "output_type": "stream",
     "text": [
      "The H.C.F. is 2\n"
     ]
    }
   ],
   "source": [
    "def find_hcf(x, y):\n",
    "    if x > y:\n",
    "        g = y\n",
    "    else:\n",
    "        g = x\n",
    "    for i in range(1, g+1):\n",
    "        if((x % i == 0) and (y % i == 0)):\n",
    "            hcf = i \n",
    "    return hcf\n",
    "number1 = 6\n",
    "number2 = 28\n",
    "print(\"The H.C.F. is\", find_hcf(number1, number2))\n"
   ]
  },
  {
   "cell_type": "markdown",
   "id": "6d2ae652",
   "metadata": {},
   "source": [
    "3) Write a Python Program to Convert Decimal to Binary, Octal and Hexadecimal?"
   ]
  },
  {
   "cell_type": "code",
   "execution_count": 11,
   "id": "e646df2a",
   "metadata": {},
   "outputs": [
    {
     "name": "stdout",
     "output_type": "stream",
     "text": [
      "Enter a decimal number: 524\n",
      "0b1000001100 is binary\n",
      "0o1014 is octal \n",
      "0x20c is Hexadecimal\n"
     ]
    }
   ],
   "source": [
    "x = int(input(\"Enter a decimal number: \"))\n",
    "print(bin(x), \"is binary\")\n",
    "print(oct(x), \"is octal \")\n",
    "print(hex(x), \"is Hexadecimal\")"
   ]
  },
  {
   "cell_type": "markdown",
   "id": "d7d3c22f",
   "metadata": {},
   "source": [
    "4) Write a Python Program To Find ASCII value of a character?"
   ]
  },
  {
   "cell_type": "code",
   "execution_count": 12,
   "id": "57ff6720",
   "metadata": {},
   "outputs": [
    {
     "name": "stdout",
     "output_type": "stream",
     "text": [
      "Enter any character: g\n",
      "ASCII value of 'g' is  103\n"
     ]
    }
   ],
   "source": [
    "ASCII = input(\"Enter any character: \")\n",
    "print(\"ASCII value of '\"+ ASCII+ \"' is \", ord(ASCII))"
   ]
  },
  {
   "cell_type": "markdown",
   "id": "5b1cfead",
   "metadata": {},
   "source": [
    "5) Write a Python Program to Make a Simple Calculator with 4 basic mathematical operations?"
   ]
  },
  {
   "cell_type": "code",
   "execution_count": 13,
   "id": "97da9e48",
   "metadata": {},
   "outputs": [
    {
     "name": "stdout",
     "output_type": "stream",
     "text": [
      "Select the operation.\n",
      "click 1 to Add\n",
      "click 2 to Subtract\n",
      "click 3 to Multiply\n",
      "click 4 tp Divide\n",
      "Enter choice(1/2/3/4): 4\n",
      "Enter first number: 5897\n",
      "Enter second number: 23\n",
      "5897.0 / 23.0 = 256.39130434782606\n"
     ]
    }
   ],
   "source": [
    "\n",
    "def add(x, y):\n",
    "    return x + y\n",
    "\n",
    "def subtract(x, y):\n",
    "    return x - y\n",
    "\n",
    "def multiply(x, y):\n",
    "    return x * y\n",
    "\n",
    "def divide(x, y):\n",
    "    return x / y\n",
    "\n",
    "print(\"Select the operation.\")\n",
    "print(\"click 1 to Add\")\n",
    "print(\"click 2 to Subtract\")\n",
    "print(\"click 3 to Multiply\")\n",
    "print(\"click 4 tp Divide\")\n",
    "\n",
    "while True:\n",
    "    choice = input(\"Enter choice(1/2/3/4): \")\n",
    "    if choice in ('1', '2', '3', '4'):\n",
    "        x1 = float(input(\"Enter first number: \"))\n",
    "        y1 = float(input(\"Enter second number: \"))\n",
    "        if choice == '1':\n",
    "            print(x1, \"+\", y1, \"=\", add(x1, y1))\n",
    "        elif choice == '2':\n",
    "            print(x1, \"-\", y1, \"=\", subtract(x1 , y1))\n",
    "        elif choice == '3':\n",
    "            print(x1, \"*\", y1, \"=\", multiply(x1, y1))\n",
    "        elif choice == '4':\n",
    "            print(x1, \"/\", y1, \"=\", divide(x1, y1))\n",
    "            break\n",
    "    else:\n",
    "        print(\"Enter 1 or 2 or 3 or 4\")"
   ]
  },
  {
   "cell_type": "code",
   "execution_count": null,
   "id": "710372b8",
   "metadata": {},
   "outputs": [],
   "source": []
  }
 ],
 "metadata": {
  "kernelspec": {
   "display_name": "Python 3 (ipykernel)",
   "language": "python",
   "name": "python3"
  },
  "language_info": {
   "codemirror_mode": {
    "name": "ipython",
    "version": 3
   },
   "file_extension": ".py",
   "mimetype": "text/x-python",
   "name": "python",
   "nbconvert_exporter": "python",
   "pygments_lexer": "ipython3",
   "version": "3.9.12"
  }
 },
 "nbformat": 4,
 "nbformat_minor": 5
}
