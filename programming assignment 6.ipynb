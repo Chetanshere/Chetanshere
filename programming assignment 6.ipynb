{
 "cells": [
  {
   "cell_type": "markdown",
   "id": "1fa7494a",
   "metadata": {},
   "source": [
    "1) Write a Python Program to Display Fibonacci Sequence Using Recursion?"
   ]
  },
  {
   "cell_type": "code",
   "execution_count": 2,
   "id": "33012ac4",
   "metadata": {},
   "outputs": [
    {
     "name": "stdout",
     "output_type": "stream",
     "text": [
      "Fibonacci sequence:\n",
      "0\n",
      "1\n",
      "1\n",
      "2\n",
      "3\n",
      "5\n",
      "8\n"
     ]
    }
   ],
   "source": [
    "def fiboseries(n):\n",
    "    if n <= 1:\n",
    "        return n\n",
    "    else:\n",
    "        return(fiboseries(n-1) + fiboseries(n-2))\n",
    "\n",
    "nofterms = 7\n",
    "\n",
    "\n",
    "if nofterms <= 0:\n",
    "    print(\"Plese enter a positive integer\")\n",
    "else:\n",
    "    print(\"Fibonacci sequence:\")\n",
    "    for i in range(nofterms):\n",
    "        print(fiboseries(i))\n"
   ]
  },
  {
   "cell_type": "markdown",
   "id": "89f63f2d",
   "metadata": {},
   "source": [
    "2) Write a Python Program to Find Factorial of Number Using Recursion?"
   ]
  },
  {
   "cell_type": "code",
   "execution_count": 3,
   "id": "db532828",
   "metadata": {},
   "outputs": [
    {
     "name": "stdout",
     "output_type": "stream",
     "text": [
      "The factorial of 12 is 479001600\n"
     ]
    }
   ],
   "source": [
    "def recursion_factorial(n):\n",
    "    if n == 1:\n",
    "        return n\n",
    "    else:\n",
    "        return n*recursion_factorial(n-1)\n",
    "num = 12\n",
    "if num < 0:\n",
    "    print(\"Please enter a positive number\")\n",
    "elif num == 0:\n",
    "    print(\"Factorial of 0 is 1\")\n",
    "else:\n",
    "    print(\"The factorial of\", num, \"is\", recursion_factorial(num))\n"
   ]
  },
  {
   "cell_type": "markdown",
   "id": "f42ad90b",
   "metadata": {},
   "source": [
    "3) Write a Python Program to calculate your Body Mass Index?"
   ]
  },
  {
   "cell_type": "code",
   "execution_count": 5,
   "id": "679d0301",
   "metadata": {},
   "outputs": [
    {
     "name": "stdout",
     "output_type": "stream",
     "text": [
      "Enter your weight in kg: 65\n",
      "Enter your height in metre: 1.65\n",
      "Your BMI is  24\n"
     ]
    }
   ],
   "source": [
    "Weight = float(input(\"Enter your weight in kg: \"))\n",
    "Height = float(input(\"Enter your height in metre: \"))\n",
    "BMI = round(Weight/(Height*Height))\n",
    "print(\"Your BMI is \", BMI)"
   ]
  },
  {
   "cell_type": "markdown",
   "id": "a8ec063f",
   "metadata": {},
   "source": [
    "4) Write a Python Program to calculate the natural logarithm of any number?"
   ]
  },
  {
   "cell_type": "code",
   "execution_count": 9,
   "id": "9faba365",
   "metadata": {},
   "outputs": [
    {
     "name": "stdout",
     "output_type": "stream",
     "text": [
      "Enter the number to find logarithm: 54\n",
      "Natural logarithm of the given number is 3.9889840465642745\n"
     ]
    }
   ],
   "source": [
    "import numpy\n",
    "x=int(input(\"Enter the number to find logarithm: \"))\n",
    "print(\"Natural logarithm of the given number is\" ,numpy.log(x))"
   ]
  },
  {
   "cell_type": "markdown",
   "id": "03a36ced",
   "metadata": {},
   "source": [
    "5) Write a Python Program for cube sum of first n natural numbers?"
   ]
  },
  {
   "cell_type": "code",
   "execution_count": 13,
   "id": "8b261c35",
   "metadata": {},
   "outputs": [
    {
     "name": "stdout",
     "output_type": "stream",
     "text": [
      "Enter any number: 6\n",
      "Cube sum of first n natural numbers is  441\n"
     ]
    }
   ],
   "source": [
    "x=int(input(\"Enter any number: \"))\n",
    "y=0\n",
    "for i in range(1,x+1):\n",
    "    y=y+pow(i,3)\n",
    "print(\"Cube sum of first n natural numbers is \", y)"
   ]
  },
  {
   "cell_type": "code",
   "execution_count": null,
   "id": "7959d85e",
   "metadata": {},
   "outputs": [],
   "source": []
  }
 ],
 "metadata": {
  "kernelspec": {
   "display_name": "Python 3 (ipykernel)",
   "language": "python",
   "name": "python3"
  },
  "language_info": {
   "codemirror_mode": {
    "name": "ipython",
    "version": 3
   },
   "file_extension": ".py",
   "mimetype": "text/x-python",
   "name": "python",
   "nbconvert_exporter": "python",
   "pygments_lexer": "ipython3",
   "version": "3.9.12"
  }
 },
 "nbformat": 4,
 "nbformat_minor": 5
}
