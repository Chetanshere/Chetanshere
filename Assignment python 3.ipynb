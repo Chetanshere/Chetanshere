{
 "cells": [
  {
   "cell_type": "markdown",
   "id": "9c972e93",
   "metadata": {},
   "source": [
    "1. Why are functions advantageous to have in your programs?"
   ]
  },
  {
   "cell_type": "markdown",
   "id": "ec46e6e0",
   "metadata": {},
   "source": [
    "1) so that we can reuse the function in order to perform repitative tasks\n",
    "\n",
    "2) it enhances the look and readability of the code"
   ]
  },
  {
   "cell_type": "markdown",
   "id": "32c4b9b3",
   "metadata": {},
   "source": [
    "2. When does the code in a function run: when it's specified or when it's called?\n"
   ]
  },
  {
   "cell_type": "markdown",
   "id": "b126f51e",
   "metadata": {},
   "source": [
    "Code runs when it is called"
   ]
  },
  {
   "cell_type": "markdown",
   "id": "0cf9ce69",
   "metadata": {},
   "source": [
    "3. What statement creates a function?\n",
    "\n"
   ]
  },
  {
   "cell_type": "markdown",
   "id": "be9406ac",
   "metadata": {},
   "source": [
    "def statement creates the function and return or print gives the output after the function is called"
   ]
  },
  {
   "cell_type": "markdown",
   "id": "fded24ee",
   "metadata": {},
   "source": [
    "4. What is the difference between a function and a function call?\n"
   ]
  },
  {
   "cell_type": "markdown",
   "id": "8c633acb",
   "metadata": {},
   "source": [
    "1) we use function to get some kind of result by defining it \n",
    "\n",
    "2) and we call the function to get to a particular task done "
   ]
  },
  {
   "cell_type": "markdown",
   "id": "dad6012b",
   "metadata": {},
   "source": [
    "5. How many global scopes are there in a Python program? How many local scopes?\n"
   ]
  },
  {
   "cell_type": "markdown",
   "id": "626a1827",
   "metadata": {},
   "source": [
    "1) There is only one global scope \n",
    "\n",
    "2) And local scope is also one"
   ]
  },
  {
   "cell_type": "markdown",
   "id": "693439f3",
   "metadata": {},
   "source": [
    "7. What is the concept of a return value? Is it possible to have a return value in an expression?\n"
   ]
  },
  {
   "cell_type": "markdown",
   "id": "75eed251",
   "metadata": {},
   "source": [
    "A specific value returned from a function is called the return value.\n",
    "\n",
    "When the return statement is executed, the function exits immediately"
   ]
  },
  {
   "cell_type": "markdown",
   "id": "4a3a0ae9",
   "metadata": {},
   "source": [
    "8. If a function does not have a return statement, what is the return value of a call to that function?\n"
   ]
  },
  {
   "cell_type": "markdown",
   "id": "fbe1bf38",
   "metadata": {},
   "source": [
    "The function will return \"None\" after being called"
   ]
  },
  {
   "cell_type": "markdown",
   "id": "f36ba137",
   "metadata": {},
   "source": [
    "9. How do you make a function variable refer to the global variable?\n"
   ]
  },
  {
   "cell_type": "markdown",
   "id": "3340f2ec",
   "metadata": {},
   "source": [
    "To make a function variable refer to the global variable we will have to use global keyword that refers to the global variable"
   ]
  },
  {
   "cell_type": "markdown",
   "id": "fb1b30f7",
   "metadata": {},
   "source": [
    "10. What is the data type of None?\n"
   ]
  },
  {
   "cell_type": "markdown",
   "id": "eaaf5942",
   "metadata": {},
   "source": [
    "type of None is \"Nonetype\""
   ]
  },
  {
   "cell_type": "markdown",
   "id": "0c428369",
   "metadata": {},
   "source": [
    "12. If you had a bacon() feature in a spam module, what would you call it after importing spam?\n"
   ]
  },
  {
   "cell_type": "markdown",
   "id": "12cdaf8d",
   "metadata": {},
   "source": [
    "after importing spam we should import the function as well"
   ]
  },
  {
   "cell_type": "markdown",
   "id": "432272cf",
   "metadata": {},
   "source": [
    "13. What can you do to save a programme from crashing if it encounters an error?\n"
   ]
  },
  {
   "cell_type": "markdown",
   "id": "043afaca",
   "metadata": {},
   "source": [
    "We must practice exception handling in order to save our programme from crashing if it encounter an error\n"
   ]
  },
  {
   "cell_type": "markdown",
   "id": "b20a35a7",
   "metadata": {},
   "source": [
    "14. What is the purpose of the try clause? What is the purpose of the except clause?\n"
   ]
  },
  {
   "cell_type": "markdown",
   "id": "277241b9",
   "metadata": {},
   "source": [
    "1) try block is used for checking some errors in the programme written in it\n",
    "\n",
    "2) except block is executed when there is any kind of error encountered"
   ]
  }
 ],
 "metadata": {
  "kernelspec": {
   "display_name": "Python 3 (ipykernel)",
   "language": "python",
   "name": "python3"
  },
  "language_info": {
   "codemirror_mode": {
    "name": "ipython",
    "version": 3
   },
   "file_extension": ".py",
   "mimetype": "text/x-python",
   "name": "python",
   "nbconvert_exporter": "python",
   "pygments_lexer": "ipython3",
   "version": "3.9.12"
  }
 },
 "nbformat": 4,
 "nbformat_minor": 5
}
