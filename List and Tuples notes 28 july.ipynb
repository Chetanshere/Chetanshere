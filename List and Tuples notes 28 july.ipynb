{
 "cells": [
  {
   "cell_type": "markdown",
   "id": "778fff9e",
   "metadata": {},
   "source": [
    "# Lists and Tuples in Python"
   ]
  },
  {
   "cell_type": "markdown",
   "id": "0718716f",
   "metadata": {},
   "source": [
    "## Date: 28/07/2022"
   ]
  },
  {
   "cell_type": "markdown",
   "id": "44a9126e",
   "metadata": {},
   "source": [
    "Notes:To make a list   "
   ]
  },
  {
   "cell_type": "code",
   "execution_count": 2,
   "id": "1d10992b",
   "metadata": {},
   "outputs": [
    {
     "data": {
      "text/plain": [
       "['Harpic', 'Vim bar', 'deodrant', 'Bhindi', 'Lollypop']"
      ]
     },
     "execution_count": 2,
     "metadata": {},
     "output_type": "execute_result"
    }
   ],
   "source": [
    "#To make a list :\n",
    "grocery=[\"Harpic\",\"Vim bar\",\"deodrant\",\"Bhindi\",\"Lollypop\"]\n",
    "# Assign a variable then create a lst using square brackets:\n",
    "grocery"
   ]
  },
  {
   "cell_type": "code",
   "execution_count": 4,
   "id": "6e78af34",
   "metadata": {},
   "outputs": [
    {
     "data": {
      "text/plain": [
       "['Harpic', 'Vim bar', 'deodrant', 'Bhindi', 'Lollypop', 56]"
      ]
     },
     "execution_count": 4,
     "metadata": {},
     "output_type": "execute_result"
    }
   ],
   "source": [
    "# we can also add numbers in the list:\n",
    "#for example:\n",
    "grocery=[\"Harpic\",\"Vim bar\",\"deodrant\",\"Bhindi\",\"Lollypop\",56]#this is called as mixed list\n",
    "grocery"
   ]
  },
  {
   "cell_type": "code",
   "execution_count": 5,
   "id": "f5f1ac69",
   "metadata": {},
   "outputs": [
    {
     "data": {
      "text/plain": [
       "'Harpic'"
      ]
     },
     "execution_count": 5,
     "metadata": {},
     "output_type": "execute_result"
    }
   ],
   "source": [
    "# How to access the items of the given list:\n",
    "# 1) name / variable of the list\n",
    "# 2) Index of the element in [ ] brackets\n",
    "# example\n",
    "grocery[0]"
   ]
  },
  {
   "cell_type": "code",
   "execution_count": 6,
   "id": "d9f692a6",
   "metadata": {},
   "outputs": [
    {
     "data": {
      "text/plain": [
       "[2, 7, 9, 11, 3]"
      ]
     },
     "execution_count": 6,
     "metadata": {},
     "output_type": "execute_result"
    }
   ],
   "source": [
    "# we can also make a list of numbers only:\n",
    "numbers= [2,7,9,11,3]\n",
    "numbers"
   ]
  },
  {
   "cell_type": "code",
   "execution_count": 7,
   "id": "3622e519",
   "metadata": {},
   "outputs": [
    {
     "data": {
      "text/plain": [
       "9"
      ]
     },
     "execution_count": 7,
     "metadata": {},
     "output_type": "execute_result"
    }
   ],
   "source": [
    "numbers[2] #access the items of the given list"
   ]
  },
  {
   "cell_type": "markdown",
   "id": "cc01caf4",
   "metadata": {},
   "source": [
    "Sorting of list:"
   ]
  },
  {
   "cell_type": "code",
   "execution_count": 10,
   "id": "826463b0",
   "metadata": {},
   "outputs": [
    {
     "data": {
      "text/plain": [
       "[2, 3, 7, 9, 11]"
      ]
     },
     "execution_count": 10,
     "metadata": {},
     "output_type": "execute_result"
    }
   ],
   "source": [
    "# in order to sort a list:\n",
    "numbers.sort() # cmd to sort a list\n",
    "numbers  # cmd to print the new sorted list"
   ]
  },
  {
   "cell_type": "markdown",
   "id": "3307deb6",
   "metadata": {},
   "source": [
    "Reversing of list:"
   ]
  },
  {
   "cell_type": "code",
   "execution_count": 11,
   "id": "05327fcd",
   "metadata": {},
   "outputs": [
    {
     "data": {
      "text/plain": [
       "[11, 9, 7, 3, 2]"
      ]
     },
     "execution_count": 11,
     "metadata": {},
     "output_type": "execute_result"
    }
   ],
   "source": [
    "# in order to reverse a list:\n",
    "numbers.reverse() # cmd to reverse a list\n",
    "numbers # cmd to print the new reversed list"
   ]
  },
  {
   "cell_type": "markdown",
   "id": "62227c4e",
   "metadata": {},
   "source": [
    "Slicing and extended slicing"
   ]
  },
  {
   "cell_type": "code",
   "execution_count": 12,
   "id": "9c512a16",
   "metadata": {},
   "outputs": [
    {
     "data": {
      "text/plain": [
       "[11, 9, 7, 3, 2]"
      ]
     },
     "execution_count": 12,
     "metadata": {},
     "output_type": "execute_result"
    }
   ],
   "source": [
    "# slicing of lists (it does not make any change in the original list unlike sort and reverse)\n",
    "numbers[0:5]"
   ]
  },
  {
   "cell_type": "code",
   "execution_count": 13,
   "id": "88411f45",
   "metadata": {},
   "outputs": [
    {
     "data": {
      "text/plain": [
       "[11, 9, 7, 3, 2]"
      ]
     },
     "execution_count": 13,
     "metadata": {},
     "output_type": "execute_result"
    }
   ],
   "source": [
    "numbers[:]"
   ]
  },
  {
   "cell_type": "code",
   "execution_count": 14,
   "id": "284bfb90",
   "metadata": {},
   "outputs": [
    {
     "data": {
      "text/plain": [
       "[9, 7, 3, 2]"
      ]
     },
     "execution_count": 14,
     "metadata": {},
     "output_type": "execute_result"
    }
   ],
   "source": [
    "numbers[1:]"
   ]
  },
  {
   "cell_type": "code",
   "execution_count": 15,
   "id": "cae70a92",
   "metadata": {},
   "outputs": [
    {
     "data": {
      "text/plain": [
       "[11, 9, 7, 3, 2]"
      ]
     },
     "execution_count": 15,
     "metadata": {},
     "output_type": "execute_result"
    }
   ],
   "source": [
    "numbers # see it does not make any changes to the list"
   ]
  },
  {
   "cell_type": "code",
   "execution_count": 16,
   "id": "3260f2df",
   "metadata": {},
   "outputs": [
    {
     "data": {
      "text/plain": [
       "[11, 9, 7, 3, 2]"
      ]
     },
     "execution_count": 16,
     "metadata": {},
     "output_type": "execute_result"
    }
   ],
   "source": [
    "# extended slicing of list\n",
    "numbers[::1] # fromat of the cmd= [FE= starting:SE= ending: steps + 1]"
   ]
  },
  {
   "cell_type": "code",
   "execution_count": 18,
   "id": "274f1a81",
   "metadata": {},
   "outputs": [
    {
     "data": {
      "text/plain": [
       "[11, 7, 2]"
      ]
     },
     "execution_count": 18,
     "metadata": {},
     "output_type": "execute_result"
    }
   ],
   "source": [
    "#examples:\n",
    "numbers[::2]"
   ]
  },
  {
   "cell_type": "code",
   "execution_count": 20,
   "id": "0c7c23a5",
   "metadata": {},
   "outputs": [
    {
     "data": {
      "text/plain": [
       "[2, 3, 7, 9, 11]"
      ]
     },
     "execution_count": 20,
     "metadata": {},
     "output_type": "execute_result"
    }
   ],
   "source": [
    "# for minus step (note: steps should not be less than -1)\n",
    "numbers[::-1] # this basically reverses the list"
   ]
  },
  {
   "cell_type": "markdown",
   "id": "0430201c",
   "metadata": {},
   "source": [
    "Important fuctions of lists"
   ]
  },
  {
   "cell_type": "code",
   "execution_count": 21,
   "id": "bd1570e4",
   "metadata": {},
   "outputs": [
    {
     "data": {
      "text/plain": [
       "5"
      ]
     },
     "execution_count": 21,
     "metadata": {},
     "output_type": "execute_result"
    }
   ],
   "source": [
    "# to check length of the list:\n",
    "len(numbers)"
   ]
  },
  {
   "cell_type": "code",
   "execution_count": 22,
   "id": "88d1e5b5",
   "metadata": {},
   "outputs": [
    {
     "data": {
      "text/plain": [
       "11"
      ]
     },
     "execution_count": 22,
     "metadata": {},
     "output_type": "execute_result"
    }
   ],
   "source": [
    "# to check maximum valued element in list:\n",
    "max(numbers)"
   ]
  },
  {
   "cell_type": "code",
   "execution_count": 23,
   "id": "2ce975e7",
   "metadata": {},
   "outputs": [
    {
     "data": {
      "text/plain": [
       "2"
      ]
     },
     "execution_count": 23,
     "metadata": {},
     "output_type": "execute_result"
    }
   ],
   "source": [
    "# to check minimum valued element in list:\n",
    "min(numbers)"
   ]
  },
  {
   "cell_type": "code",
   "execution_count": 25,
   "id": "7713a735",
   "metadata": {},
   "outputs": [
    {
     "data": {
      "text/plain": [
       "[11, 9, 7, 3, 2, 25, 25]"
      ]
     },
     "execution_count": 25,
     "metadata": {},
     "output_type": "execute_result"
    }
   ],
   "source": [
    "# append function ( to add an element to the list)\n",
    "# append= add to the end\n",
    "numbers.append(25)\n",
    "numbers"
   ]
  },
  {
   "cell_type": "code",
   "execution_count": 31,
   "id": "27cc5c1c",
   "metadata": {},
   "outputs": [
    {
     "data": {
      "text/plain": [
       "[11, 9, 58, 58, 58, 7, 3, 2]"
      ]
     },
     "execution_count": 31,
     "metadata": {},
     "output_type": "execute_result"
    }
   ],
   "source": [
    "# insert function ( to add an element in any location of the list):\n",
    "numbers.insert(2,58) # here we have added an element in index 2\n",
    "numbers"
   ]
  },
  {
   "cell_type": "code",
   "execution_count": 33,
   "id": "6a82178f",
   "metadata": {},
   "outputs": [
    {
     "data": {
      "text/plain": [
       "[11, 9, 58, 58, 58, 3, 2]"
      ]
     },
     "execution_count": 33,
     "metadata": {},
     "output_type": "execute_result"
    }
   ],
   "source": [
    "# remove function ( to remove element ):\n",
    "numbers.remove(7) # here we have removed element of value 7\n",
    "numbers"
   ]
  },
  {
   "cell_type": "code",
   "execution_count": 34,
   "id": "42cc1ec6",
   "metadata": {},
   "outputs": [
    {
     "data": {
      "text/plain": [
       "2"
      ]
     },
     "execution_count": 34,
     "metadata": {},
     "output_type": "execute_result"
    }
   ],
   "source": [
    "# pop function ( to remove the last element):\n",
    "numbers.pop()"
   ]
  },
  {
   "cell_type": "markdown",
   "id": "bfd72ee2",
   "metadata": {},
   "source": [
    "# Tuples:"
   ]
  },
  {
   "cell_type": "code",
   "execution_count": 35,
   "id": "a8e703c4",
   "metadata": {},
   "outputs": [
    {
     "data": {
      "text/plain": [
       "[11, 9, 58, 58, 58, 3]"
      ]
     },
     "execution_count": 35,
     "metadata": {},
     "output_type": "execute_result"
    }
   ],
   "source": [
    "numbers"
   ]
  },
  {
   "cell_type": "code",
   "execution_count": 36,
   "id": "ae16e5a6",
   "metadata": {},
   "outputs": [],
   "source": [
    "# Mutable= can change\n",
    "# Immutable= can not change"
   ]
  },
  {
   "cell_type": "code",
   "execution_count": 38,
   "id": "67956a9a",
   "metadata": {},
   "outputs": [
    {
     "data": {
      "text/plain": [
       "(1, 2, 3, 4)"
      ]
     },
     "execution_count": 38,
     "metadata": {},
     "output_type": "execute_result"
    }
   ],
   "source": [
    "# our list is mutable but tuple is immutable/\n",
    "tp=(1,2,3,4) # this thing in bracket is called as parenthesis.\n",
    "tp # abbreviation of tuple"
   ]
  },
  {
   "cell_type": "code",
   "execution_count": 39,
   "id": "54fcb524",
   "metadata": {},
   "outputs": [
    {
     "ename": "TypeError",
     "evalue": "'tuple' object does not support item assignment",
     "output_type": "error",
     "traceback": [
      "\u001b[1;31m---------------------------------------------------------------------------\u001b[0m",
      "\u001b[1;31mTypeError\u001b[0m                                 Traceback (most recent call last)",
      "Input \u001b[1;32mIn [39]\u001b[0m, in \u001b[0;36m<cell line: 2>\u001b[1;34m()\u001b[0m\n\u001b[0;32m      1\u001b[0m \u001b[38;5;66;03m# list contains [ ] brackets and tuples contain ( ) brackets\u001b[39;00m\n\u001b[1;32m----> 2\u001b[0m tp[\u001b[38;5;241m1\u001b[39m]\u001b[38;5;241m=\u001b[39m\u001b[38;5;241m7\u001b[39m\n",
      "\u001b[1;31mTypeError\u001b[0m: 'tuple' object does not support item assignment"
     ]
    }
   ],
   "source": [
    "# list contains [ ] brackets and tuples contain ( ) brackets\n",
    "tp[1]=7"
   ]
  },
  {
   "cell_type": "code",
   "execution_count": 40,
   "id": "9d1f772d",
   "metadata": {},
   "outputs": [],
   "source": [
    "# in the above error we can see that the values in tuple can not be changed"
   ]
  },
  {
   "cell_type": "code",
   "execution_count": 43,
   "id": "7235f3d2",
   "metadata": {},
   "outputs": [
    {
     "data": {
      "text/plain": [
       "(1,)"
      ]
     },
     "execution_count": 43,
     "metadata": {},
     "output_type": "execute_result"
    }
   ],
   "source": [
    "# when there is 1 element in tuple \n",
    "# way of writing code= \n",
    "tp=(1,)\n",
    "tp"
   ]
  },
  {
   "cell_type": "code",
   "execution_count": 3,
   "id": "8c2f06a1",
   "metadata": {},
   "outputs": [
    {
     "name": "stdout",
     "output_type": "stream",
     "text": [
      "2 1\n"
     ]
    }
   ],
   "source": [
    "# in order to swap two numbers:\n",
    "a=1\n",
    "b=2\n",
    "swap = a\n",
    "a=b\n",
    "b= swap\n",
    "print(a,b)"
   ]
  },
  {
   "cell_type": "code",
   "execution_count": 45,
   "id": "62b427de",
   "metadata": {},
   "outputs": [],
   "source": [
    "# in the above cell you acn see the values of a and b are swaped."
   ]
  },
  {
   "cell_type": "code",
   "execution_count": 5,
   "id": "2fbaa7f2",
   "metadata": {},
   "outputs": [
    {
     "name": "stdout",
     "output_type": "stream",
     "text": [
      "bhaiyuuuu chetan\n"
     ]
    }
   ],
   "source": [
    "# but the shortcut for doing swapping is:\n",
    "a=\"chetan\"\n",
    "b=\"bhaiyuuuu\"\n",
    "a,b=b,a\n",
    "print(a,b)"
   ]
  },
  {
   "cell_type": "code",
   "execution_count": 48,
   "id": "24f4843b",
   "metadata": {},
   "outputs": [],
   "source": [
    "# as we can see the values are swapped."
   ]
  },
  {
   "cell_type": "code",
   "execution_count": null,
   "id": "45d06d2b",
   "metadata": {},
   "outputs": [],
   "source": [
    "# for more related stuffs search on google."
   ]
  }
 ],
 "metadata": {
  "kernelspec": {
   "display_name": "Python 3 (ipykernel)",
   "language": "python",
   "name": "python3"
  },
  "language_info": {
   "codemirror_mode": {
    "name": "ipython",
    "version": 3
   },
   "file_extension": ".py",
   "mimetype": "text/x-python",
   "name": "python",
   "nbconvert_exporter": "python",
   "pygments_lexer": "ipython3",
   "version": "3.9.12"
  }
 },
 "nbformat": 4,
 "nbformat_minor": 5
}
